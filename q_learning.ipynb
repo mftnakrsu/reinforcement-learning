{
  "nbformat": 4,
  "nbformat_minor": 0,
  "metadata": {
    "colab": {
      "name": "q_learning.ipynb",
      "provenance": [],
      "authorship_tag": "ABX9TyMLvyYX/B4/gWT2asUPVB1y",
      "include_colab_link": true
    },
    "kernelspec": {
      "name": "python3",
      "display_name": "Python 3"
    },
    "language_info": {
      "name": "python"
    }
  },
  "cells": [
    {
      "cell_type": "markdown",
      "metadata": {
        "id": "view-in-github",
        "colab_type": "text"
      },
      "source": [
        "<a href=\"https://colab.research.google.com/github/mftnakrsu/reinforcement-learning/blob/main/q_learning.ipynb\" target=\"_parent\"><img src=\"https://colab.research.google.com/assets/colab-badge.svg\" alt=\"Open In Colab\"/></a>"
      ]
    },
    {
      "cell_type": "code",
      "execution_count": 1,
      "metadata": {
        "id": "QkB_vYCJQcLX"
      },
      "outputs": [],
      "source": [
        "import gym\n",
        "import numpy as np\n",
        "import random\n",
        "import matplotlib.pyplot as plt"
      ]
    },
    {
      "cell_type": "code",
      "source": [
        "env = gym.make('Taxi-v3')"
      ],
      "metadata": {
        "id": "-DkWRdK1QncS"
      },
      "execution_count": 6,
      "outputs": []
    },
    {
      "cell_type": "markdown",
      "source": [
        "#Q Table"
      ],
      "metadata": {
        "id": "b2T_UXmWRJaF"
      }
    },
    {
      "cell_type": "code",
      "source": [
        "action =env.action_space.n"
      ],
      "metadata": {
        "id": "Qfv-LKOgTjIt"
      },
      "execution_count": 19,
      "outputs": []
    },
    {
      "cell_type": "code",
      "source": [
        "q_table=np.zeros([env.observation_space.n,action])"
      ],
      "metadata": {
        "id": "A2Wvz85MTKEF"
      },
      "execution_count": 20,
      "outputs": []
    },
    {
      "cell_type": "markdown",
      "source": [
        "#Hyperparameter"
      ],
      "metadata": {
        "id": "oP0qYXYpRLTb"
      }
    },
    {
      "cell_type": "code",
      "source": [
        "alpha =   0.1\n",
        "gamma =   0.9\n",
        "epsilon = 0.1"
      ],
      "metadata": {
        "id": "K2F13t3QRNLK"
      },
      "execution_count": 21,
      "outputs": []
    },
    {
      "cell_type": "markdown",
      "source": [
        "#Visualization"
      ],
      "metadata": {
        "id": "MiCc9wKVRNtX"
      }
    },
    {
      "cell_type": "code",
      "source": [
        "reward_list =  [] \n",
        "dropout_list = []"
      ],
      "metadata": {
        "id": "xVznEk69RRu2"
      },
      "execution_count": 22,
      "outputs": []
    },
    {
      "cell_type": "markdown",
      "source": [
        "# Episode"
      ],
      "metadata": {
        "id": "gX4nUuK3RV6m"
      }
    },
    {
      "cell_type": "code",
      "source": [
        "episode_number=10000\n",
        "for i in range(1,episode_number):\n",
        "  #initilaze environment\n",
        "  state = env.reset()\n",
        "  \n",
        "  reward_count = 0\n",
        "  dropouts = 0 \n",
        "\n",
        "  while True:\n",
        "    # exploid vs explore (action) %10 explore keşfet randomly, %90 daha önceden gittiği yerlere q table\n",
        "    if random.uniform(0,1)<epsilon:\n",
        "      action = env.action_space.sample()\n",
        "    else:\n",
        "      action = np.argmax(q_table[state])\n",
        "\n",
        "    # action process and take reward/observation\n",
        "    next_state, reward,done,_ = env.step(action)\n",
        "    # Q learning function\n",
        "    old_value=q_table[state,action]\n",
        "    next_max =np.max(q_table[next_state])\n",
        "    next_value = (1-alpha)*old_value+alpha*(reward+gamma*next_max)\n",
        "\n",
        "    # Q learning update\n",
        "    q_table[state,action] = next_value\n",
        "    # update state\n",
        "    state = next_state\n",
        "    # find wrong dropouts\n",
        "    if reward == -10: # taxi env dropout\n",
        "      dropouts+=1\n",
        "\n",
        "    if done:\n",
        "      break\n",
        "    \n",
        "\n",
        "    reward_count+=reward\n",
        "  if i%10 ==0:\n",
        "\n",
        "    dropout_list.append(dropouts)\n",
        "    reward_list.append(reward_count)\n",
        "\n",
        "    print(\"Episode: {}, reward {}, wrong dropout {}\".format(i,reward_count,dropouts))\n",
        "\n"
      ],
      "metadata": {
        "id": "F1ZwRO4uRXUz"
      },
      "execution_count": null,
      "outputs": []
    },
    {
      "cell_type": "code",
      "source": [
        "fig, axs = plt.subplots(1,2) \n",
        "\n",
        "axs[0].plot(reward_list)\n",
        "axs[0].set_xlabel(\"episode\")\n",
        "axs[0].set_ylabel(\"reward\")\n",
        "\n",
        "axs[1].plot(dropout_list)\n",
        "axs[1].set_xlabel(\"episode\")\n",
        "axs[1].set_ylabel(\"dropouts\")\n",
        "\n",
        "axs[0].grid(True)\n",
        "axs[1].grid(True)\n",
        "\n",
        "plt.show()"
      ],
      "metadata": {
        "colab": {
          "base_uri": "https://localhost:8080/",
          "height": 279
        },
        "id": "NW6-HTIbUNnd",
        "outputId": "6be6da07-01a2-4abe-f6ab-2072a1dca86e"
      },
      "execution_count": 27,
      "outputs": [
        {
          "output_type": "display_data",
          "data": {
            "text/plain": [
              "<Figure size 432x288 with 2 Axes>"
            ],
            "image/png": "[encoded data removed]"
          },
          "metadata": {
            "needs_background": "light"
          }
        }
      ]
    },
    {
      "cell_type": "code",
      "source": [
        "#Q table comment"
      ],
      "metadata": {
        "id": "Pzn8NR-eZKcg"
      },
      "execution_count": 28,
      "outputs": []
    },
    {
      "cell_type": "code",
      "source": [
        "import pandas as pd\n",
        "df = pd.DataFrame(q_table)"
      ],
      "metadata": {
        "id": "k7C0_NavahPy"
      },
      "execution_count": 31,
      "outputs": []
    },
    {
      "cell_type": "code",
      "source": [
        "df[16:20]"
      ],
      "metadata": {
        "colab": {
          "base_uri": "https://localhost:8080/",
          "height": 175
        },
        "id": "GHz2soCnah7C",
        "outputId": "a4b618cd-ef7d-48bb-c4c1-c5d6aae53980"
      },
      "execution_count": 32,
      "outputs": [
        {
          "output_type": "execute_result",
          "data": {
            "text/plain": [
              "            0          1          2          3         4          5\n",
              "16  14.271132  16.935082  13.866624  16.771609  7.793456  20.000000\n",
              "17   2.914016   1.123755  -1.108062   0.714487 -7.051519  -0.673493\n",
              "18   9.683000   5.972033   1.496903   3.005820 -1.403132   4.183858\n",
              "19   4.348907   1.467972  -0.428654   1.556833 -5.910736   0.676931"
            ],
            "text/html": [
              "\n",
              "  <div id=\"df-9dd807c3-7aab-4074-9769-b3f949acc847\">\n",
              "    <div class=\"colab-df-container\">\n",
              "      <div>\n",
              "<style scoped>\n",
              "    .dataframe tbody tr th:only-of-type {\n",
              "        vertical-align: middle;\n",
              "    }\n",
              "\n",
              "    .dataframe tbody tr th {\n",
              "        vertical-align: top;\n",
              "    }\n",
              "\n",
              "    .dataframe thead th {\n",
              "        text-align: right;\n",
              "    }\n",
              "</style>\n",
              "<table border=\"1\" class=\"dataframe\">\n",
              "  <thead>\n",
              "    <tr style=\"text-align: right;\">\n",
              "      <th></th>\n",
              "      <th>0</th>\n",
              "      <th>1</th>\n",
              "      <th>2</th>\n",
              "      <th>3</th>\n",
              "      <th>4</th>\n",
              "      <th>5</th>\n",
              "    </tr>\n",
              "  </thead>\n",
              "  <tbody>\n",
              "    <tr>\n",
              "      <th>16</th>\n",
              "      <td>14.271132</td>\n",
              "      <td>16.935082</td>\n",
              "      <td>13.866624</td>\n",
              "      <td>16.771609</td>\n",
              "      <td>7.793456</td>\n",
              "      <td>20.000000</td>\n",
              "    </tr>\n",
              "    <tr>\n",
              "      <th>17</th>\n",
              "      <td>2.914016</td>\n",
              "      <td>1.123755</td>\n",
              "      <td>-1.108062</td>\n",
              "      <td>0.714487</td>\n",
              "      <td>-7.051519</td>\n",
              "      <td>-0.673493</td>\n",
              "    </tr>\n",
              "    <tr>\n",
              "      <th>18</th>\n",
              "      <td>9.683000</td>\n",
              "      <td>5.972033</td>\n",
              "      <td>1.496903</td>\n",
              "      <td>3.005820</td>\n",
              "      <td>-1.403132</td>\n",
              "      <td>4.183858</td>\n",
              "    </tr>\n",
              "    <tr>\n",
              "      <th>19</th>\n",
              "      <td>4.348907</td>\n",
              "      <td>1.467972</td>\n",
              "      <td>-0.428654</td>\n",
              "      <td>1.556833</td>\n",
              "      <td>-5.910736</td>\n",
              "      <td>0.676931</td>\n",
              "    </tr>\n",
              "  </tbody>\n",
              "</table>\n",
              "</div>\n",
              "      <button class=\"colab-df-convert\" onclick=\"convertToInteractive('df-9dd807c3-7aab-4074-9769-b3f949acc847')\"\n",
              "              title=\"Convert this dataframe to an interactive table.\"\n",
              "              style=\"display:none;\">\n",
              "        \n",
              "  <svg xmlns=\"http://www.w3.org/2000/svg\" height=\"24px\"viewBox=\"0 0 24 24\"\n",
              "       width=\"24px\">\n",
              "    <path d=\"M0 0h24v24H0V0z\" fill=\"none\"/>\n",
              "    <path d=\"M18.56 5.44l.94 2.06.94-2.06 2.06-.94-2.06-.94-.94-2.06-.94 2.06-2.06.94zm-11 1L8.5 8.5l.94-2.06 2.06-.94-2.06-.94L8.5 2.5l-.94 2.06-2.06.94zm10 10l.94 2.06.94-2.06 2.06-.94-2.06-.94-.94-2.06-.94 2.06-2.06.94z\"/><path d=\"M17.41 7.96l-1.37-1.37c-.4-.4-.92-.59-1.43-.59-.52 0-1.04.2-1.43.59L10.3 9.45l-7.72 7.72c-.78.78-.78 2.05 0 2.83L4 21.41c.39.39.9.59 1.41.59.51 0 1.02-.2 1.41-.59l7.78-7.78 2.81-2.81c.8-.78.8-2.07 0-2.86zM5.41 20L4 18.59l7.72-7.72 1.47 1.35L5.41 20z\"/>\n",
              "  </svg>\n",
              "      </button>\n",
              "      \n",
              "  <style>\n",
              "    .colab-df-container {\n",
              "      display:flex;\n",
              "      flex-wrap:wrap;\n",
              "      gap: 12px;\n",
              "    }\n",
              "\n",
              "    .colab-df-convert {\n",
              "      background-color: #E8F0FE;\n",
              "      border: none;\n",
              "      border-radius: 50%;\n",
              "      cursor: pointer;\n",
              "      display: none;\n",
              "      fill: #1967D2;\n",
              "      height: 32px;\n",
              "      padding: 0 0 0 0;\n",
              "      width: 32px;\n",
              "    }\n",
              "\n",
              "    .colab-df-convert:hover {\n",
              "      background-color: #E2EBFA;\n",
              "      box-shadow: 0px 1px 2px rgba(60, 64, 67, 0.3), 0px 1px 3px 1px rgba(60, 64, 67, 0.15);\n",
              "      fill: #174EA6;\n",
              "    }\n",
              "\n",
              "    [theme=dark] .colab-df-convert {\n",
              "      background-color: #3B4455;\n",
              "      fill: #D2E3FC;\n",
              "    }\n",
              "\n",
              "    [theme=dark] .colab-df-convert:hover {\n",
              "      background-color: #434B5C;\n",
              "      box-shadow: 0px 1px 3px 1px rgba(0, 0, 0, 0.15);\n",
              "      filter: drop-shadow(0px 1px 2px rgba(0, 0, 0, 0.3));\n",
              "      fill: #FFFFFF;\n",
              "    }\n",
              "  </style>\n",
              "\n",
              "      <script>\n",
              "        const buttonEl =\n",
              "          document.querySelector('#df-9dd807c3-7aab-4074-9769-b3f949acc847 button.colab-df-convert');\n",
              "        buttonEl.style.display =\n",
              "          google.colab.kernel.accessAllowed ? 'block' : 'none';\n",
              "\n",
              "        async function convertToInteractive(key) {\n",
              "          const element = document.querySelector('#df-9dd807c3-7aab-4074-9769-b3f949acc847');\n",
              "          const dataTable =\n",
              "            await google.colab.kernel.invokeFunction('convertToInteractive',\n",
              "                                                     [key], {});\n",
              "          if (!dataTable) return;\n",
              "\n",
              "          const docLinkHtml = 'Like what you see? Visit the ' +\n",
              "            '<a target=\"_blank\" href=https://colab.research.google.com/notebooks/data_table.ipynb>data table notebook</a>'\n",
              "            + ' to learn more about interactive tables.';\n",
              "          element.innerHTML = '';\n",
              "          dataTable['output_type'] = 'display_data';\n",
              "          await google.colab.output.renderOutput(dataTable, element);\n",
              "          const docLink = document.createElement('div');\n",
              "          docLink.innerHTML = docLinkHtml;\n",
              "          element.appendChild(docLink);\n",
              "        }\n",
              "      </script>\n",
              "    </div>\n",
              "  </div>\n",
              "  "
            ]
          },
          "metadata": {},
          "execution_count": 32
        }
      ]
    },
    {
      "cell_type": "code",
      "source": [
        "state1 = env.encode(4,4,4,3)\n",
        "env.s = state1 #dropoff\n",
        "env.render()"
      ],
      "metadata": {
        "colab": {
          "base_uri": "https://localhost:8080/"
        },
        "id": "oULrmiNqasNF",
        "outputId": "b9e08691-5e4a-43fc-a15f-c7467651dea1"
      },
      "execution_count": 39,
      "outputs": [
        {
          "output_type": "stream",
          "name": "stdout",
          "text": [
            "+---------+\n",
            "|R: | : :G|\n",
            "| : | : : |\n",
            "| : : : : |\n",
            "| | : | : |\n",
            "|\u001b[35m\u001b[34;1m\u001b[43mY\u001b[0m\u001b[0m\u001b[0m| : |B: |\n",
            "+---------+\n",
            "  (Dropoff)\n"
          ]
        }
      ]
    },
    {
      "cell_type": "code",
      "source": [
        "state2 = env.encode(0,0,3,4)\n",
        "env.s = state #dropoff\n",
        "env.render()"
      ],
      "metadata": {
        "colab": {
          "base_uri": "https://localhost:8080/"
        },
        "id": "Z0iL21TNbFb6",
        "outputId": "e749c47d-a837-4d1b-9d2d-40ec91edcfb5"
      },
      "execution_count": 40,
      "outputs": [
        {
          "output_type": "stream",
          "name": "stdout",
          "text": [
            "+---------+\n",
            "|R: | : :G|\n",
            "| : | : : |\n",
            "| : : : : |\n",
            "| | : | : |\n",
            "|\u001b[35m\u001b[34;1m\u001b[43mY\u001b[0m\u001b[0m\u001b[0m| : |B: |\n",
            "+---------+\n",
            "  (Dropoff)\n"
          ]
        }
      ]
    }
  ]
}